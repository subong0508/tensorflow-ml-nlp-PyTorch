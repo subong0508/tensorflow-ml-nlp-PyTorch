{
  "nbformat": 4,
  "nbformat_minor": 0,
  "metadata": {
    "colab": {
      "name": "Ch5-3-2.ipynb",
      "provenance": [],
      "collapsed_sections": [],
      "machine_shape": "hm"
    },
    "kernelspec": {
      "name": "python3",
      "display_name": "Python 3"
    },
    "accelerator": "GPU"
  },
  "cells": [
    {
      "cell_type": "code",
      "metadata": {
        "id": "1Rz2PwAGQaaL",
        "colab_type": "code",
        "outputId": "ca95f857-c711-44af-d6f5-a4d210f48d52",
        "colab": {
          "base_uri": "https://localhost:8080/",
          "height": 34
        }
      },
      "source": [
        "from google.colab import drive\n",
        "\n",
        "drive.mount('/content/gdrive')"
      ],
      "execution_count": 1,
      "outputs": [
        {
          "output_type": "stream",
          "text": [
            "Drive already mounted at /content/gdrive; to attempt to forcibly remount, call drive.mount(\"/content/gdrive\", force_remount=True).\n"
          ],
          "name": "stdout"
        }
      ]
    },
    {
      "cell_type": "code",
      "metadata": {
        "id": "oQn7j2LeQlSo",
        "colab_type": "code",
        "outputId": "7e5ed06f-92bf-437e-9916-df5a91b9c5ff",
        "colab": {
          "base_uri": "https://localhost:8080/",
          "height": 34
        }
      },
      "source": [
        "%cd /content/gdrive/My Drive/Colab Notebooks/tensorflow-ml-nlp-tf2/5.TEXT_SIM"
      ],
      "execution_count": 2,
      "outputs": [
        {
          "output_type": "stream",
          "text": [
            "/content/gdrive/My Drive/Colab Notebooks/tensorflow-ml-nlp-tf2/5.TEXT_SIM\n"
          ],
          "name": "stdout"
        }
      ]
    },
    {
      "cell_type": "code",
      "metadata": {
        "id": "la37nE6xQlVB",
        "colab_type": "code",
        "outputId": "f2da3c80-631e-423c-c161-eb721b668c97",
        "colab": {
          "base_uri": "https://localhost:8080/",
          "height": 34
        }
      },
      "source": [
        "import os\n",
        "\n",
        "if not os.path.exists('./data_out'):\n",
        "  os.makedirs('./data_out')\n",
        "else:\n",
        "  print(\"folder already exists\")"
      ],
      "execution_count": 3,
      "outputs": [
        {
          "output_type": "stream",
          "text": [
            "folder already exists\n"
          ],
          "name": "stdout"
        }
      ]
    },
    {
      "cell_type": "code",
      "metadata": {
        "id": "o5BvQBFWQlnJ",
        "colab_type": "code",
        "colab": {}
      },
      "source": [
        "import json\n",
        "import numpy as np\n",
        "import pandas as pd\n",
        "import matplotlib.pyplot as plt\n",
        "%matplotlib inline\n",
        "\n",
        "import torch\n",
        "import torch.nn.functional as F\n",
        "from torch import nn, optim"
      ],
      "execution_count": 0,
      "outputs": []
    },
    {
      "cell_type": "markdown",
      "metadata": {
        "id": "ZtR_Q5fY9Pmh",
        "colab_type": "text"
      },
      "source": [
        "## 데이터 불러오기"
      ]
    },
    {
      "cell_type": "code",
      "metadata": {
        "id": "fsyci5nt9Pq7",
        "colab_type": "code",
        "colab": {}
      },
      "source": [
        "DATA_IN_PATH = './data_in/'\n",
        "DATA_OUT_PATH = './data_out/'\n",
        "TRAIN_Q1_DATA_FILE = 'train_q1.npy'\n",
        "TRAIN_Q2_DATA_FILE = 'train_q2.npy'\n",
        "TRAIN_LABEL_DATA_FILE = 'train_label.npy'\n",
        "DATA_CONFIGS = 'data_configs.json'\n",
        "\n",
        "q1_data = np.load(open(DATA_IN_PATH + TRAIN_Q1_DATA_FILE, 'rb'))\n",
        "q2_data = np.load(open(DATA_IN_PATH + TRAIN_Q2_DATA_FILE, 'rb'))\n",
        "labels = np.load(open(DATA_IN_PATH + TRAIN_LABEL_DATA_FILE, 'rb'))\n",
        "prepro_configs = json.load(open(DATA_IN_PATH + DATA_CONFIGS, 'r'))"
      ],
      "execution_count": 0,
      "outputs": []
    },
    {
      "cell_type": "markdown",
      "metadata": {
        "id": "z4DzyqZQBaj3",
        "colab_type": "text"
      },
      "source": [
        "## 하이퍼파라미터 정의"
      ]
    },
    {
      "cell_type": "code",
      "metadata": {
        "id": "FZXA9v8l9Pv9",
        "colab_type": "code",
        "colab": {}
      },
      "source": [
        "BATCH_SIZE = 1024\n",
        "NUM_EPOCHS = 100\n",
        "VALID_SPLIT = 0.1\n",
        "MAX_LEN = 31\n",
        "\n",
        "kargs = {'vocab_size': prepro_configs['vocab_size'],\n",
        "         'word_embedding_dimension': 100,\n",
        "         'conv_num_filters': 300,\n",
        "         'conv_window_size': 3,\n",
        "         'max_pool_seq_len': MAX_LEN,\n",
        "         'sent_embedding_dimension': 128,\n",
        "         'dropout_rate': 0.2,\n",
        "         'hidden_dimension': 200,\n",
        "         'output_dimension':1}"
      ],
      "execution_count": 0,
      "outputs": []
    },
    {
      "cell_type": "markdown",
      "metadata": {
        "id": "dqSCW_tBQCZY",
        "colab_type": "text"
      },
      "source": [
        "## DataLoader"
      ]
    },
    {
      "cell_type": "code",
      "metadata": {
        "id": "zGXvG6TsSUE_",
        "colab_type": "code",
        "colab": {}
      },
      "source": [
        "split = int(len(q1_data) * (1-VALID_SPLIT))\n",
        "\n",
        "q1_train, q1_val = q1_data[:split], q2_data[split:]\n",
        "q2_train, q2_val = q2_data[:split], q2_data[split:]\n",
        "labels_train, labels_val = labels[:split], labels[split:]"
      ],
      "execution_count": 0,
      "outputs": []
    },
    {
      "cell_type": "code",
      "metadata": {
        "id": "Qb2OA0NJVg1E",
        "colab_type": "code",
        "colab": {}
      },
      "source": [
        "q1_train, q1_val = torch.LongTensor(q1_train), torch.LongTensor(q1_val)\n",
        "q2_train, q2_val = torch.LongTensor(q2_train), torch.LongTensor(q2_val)\n",
        "labels_train, labels_val = torch.FloatTensor(labels_train), torch.FloatTensor(labels_val)"
      ],
      "execution_count": 0,
      "outputs": []
    },
    {
      "cell_type": "code",
      "metadata": {
        "id": "_OnsOc-GQFy1",
        "colab_type": "code",
        "colab": {}
      },
      "source": [
        "from torch.utils.data import Dataset, DataLoader\n",
        "\n",
        "class TrainData(Dataset):\n",
        "  def __init__(self):\n",
        "    self.q1 = q1_train\n",
        "    self.q2 = q2_train\n",
        "    self.y = labels_train\n",
        "\n",
        "  def __getitem__(self, s):\n",
        "    return self.q1[s], self.q2[s], self.y[s]\n",
        "\n",
        "  def __len__(self):\n",
        "    return self.y.shape[0]\n",
        "\n",
        "class ValData(Dataset):\n",
        "  def __init__(self):\n",
        "    self.q1 = q1_val\n",
        "    self.q2 = q2_val\n",
        "    self.y = labels_val\n",
        "\n",
        "  def __getitem__(self, s):\n",
        "    return self.q1[s], self.q2[s], self.y[s]\n",
        "\n",
        "  def __len__(self):\n",
        "    return self.y.shape[0]"
      ],
      "execution_count": 0,
      "outputs": []
    },
    {
      "cell_type": "code",
      "metadata": {
        "id": "v3dHCZxSQGSd",
        "colab_type": "code",
        "colab": {}
      },
      "source": [
        "dataset = TrainData()\n",
        "train_loader = DataLoader(dataset, batch_size=BATCH_SIZE, shuffle=True)"
      ],
      "execution_count": 0,
      "outputs": []
    },
    {
      "cell_type": "markdown",
      "metadata": {
        "id": "6VV6dnJY9Pyn",
        "colab_type": "text"
      },
      "source": [
        "## 모델 정의"
      ]
    },
    {
      "cell_type": "code",
      "metadata": {
        "id": "CusN32k69P4t",
        "colab_type": "code",
        "colab": {}
      },
      "source": [
        "class CNNSimilarity(nn.Module):\n",
        "  def __init__(self, **kargs):\n",
        "    super(CNNSimilarity, self).__init__()\n",
        "    self.vocab_size = kargs['vocab_size']\n",
        "    self.word_embedding_dimension = kargs['word_embedding_dimension']\n",
        "    self.conv_num_filters = kargs['conv_num_filters']\n",
        "    self.conv_window_size = kargs['conv_window_size']\n",
        "    self.max_pool_seq_len = kargs['max_pool_seq_len']\n",
        "    self.sent_embedding_dimension = kargs['sent_embedding_dimension']\n",
        "    self.dropout_rate = kargs['dropout_rate']\n",
        "    self.hidden_dimension = kargs['hidden_dimension']\n",
        "    self.output_dimension = kargs['output_dimension']\n",
        "\n",
        "    self.word_embedding = nn.Embedding(num_embeddings=self.vocab_size, embedding_dim=self.word_embedding_dimension,\n",
        "                                       padding_idx=0)\n",
        "    self.conv = nn.Conv1d(in_channels=self.word_embedding_dimension, out_channels=self.conv_num_filters, kernel_size=self.conv_window_size)\n",
        "    self.max_pool = nn.MaxPool1d(2, 1)\n",
        "    self.dropout = nn.Dropout(self.dropout_rate)\n",
        "    self.fc1 = nn.Linear(300*8*2, self.sent_embedding_dimension)\n",
        "    self.fc2 = nn.Linear(self.sent_embedding_dimension, self.output_dimension)\n",
        "\n",
        "  def forward(self, x):\n",
        "    x1, x2 = x\n",
        "    x1, x2 = self.word_embedding(x1), self.word_embedding(x2)\n",
        "    x1, x2 = torch.transpose(x1, 1, 2), torch.transpose(x1, 1, 2)\n",
        "    x1, x2 = F.relu(self.conv(x1)), F.relu(self.conv(x2))\n",
        "    x1, x2 = self.max_pool(x1), self.max_pool(x2)\n",
        "    x1, x2 = self.dropout(x1), self.dropout(x2)\n",
        "    x = torch.cat([x1, x2], dim=-1)\n",
        "    x = x.view(x.shape[0], -1)\n",
        "    x = self.dropout(x)\n",
        "    x = self.fc1(x)\n",
        "    x = self.dropout(x)\n",
        "    x = self.fc2(x)\n",
        "    return torch.sigmoid(x)"
      ],
      "execution_count": 0,
      "outputs": []
    },
    {
      "cell_type": "code",
      "metadata": {
        "id": "qJj1oS_upTqz",
        "colab_type": "code",
        "colab": {
          "base_uri": "https://localhost:8080/",
          "height": 67
        },
        "outputId": "800c4015-8fb8-4916-dec1-e8fd07930664"
      },
      "source": [
        "CNNSimilarity(**kargs)((q1_train[:3], q2_train[:3]))"
      ],
      "execution_count": 12,
      "outputs": [
        {
          "output_type": "execute_result",
          "data": {
            "text/plain": [
              "tensor([[0.4398],\n",
              "        [0.5243],\n",
              "        [0.5424]], grad_fn=<SigmoidBackward>)"
            ]
          },
          "metadata": {
            "tags": []
          },
          "execution_count": 12
        }
      ]
    },
    {
      "cell_type": "code",
      "metadata": {
        "id": "TLJ2ykK7V3d_",
        "colab_type": "code",
        "outputId": "2bd69729-197b-4558-d57d-cb0d83697308",
        "colab": {
          "base_uri": "https://localhost:8080/",
          "height": 34
        }
      },
      "source": [
        "device = \"cuda\" if torch.cuda.is_available() else \"cpu\"\n",
        "print(device)"
      ],
      "execution_count": 13,
      "outputs": [
        {
          "output_type": "stream",
          "text": [
            "cuda\n"
          ],
          "name": "stdout"
        }
      ]
    },
    {
      "cell_type": "code",
      "metadata": {
        "id": "dFfhqM46WI3p",
        "colab_type": "code",
        "colab": {}
      },
      "source": [
        "q1_val, q2_val, labels_val = q1_val.to(device), q2_val.to(device), labels_val.to(device)"
      ],
      "execution_count": 0,
      "outputs": []
    },
    {
      "cell_type": "code",
      "metadata": {
        "id": "2Sb2HnkmQld2",
        "colab_type": "code",
        "colab": {}
      },
      "source": [
        "model = CNNSimilarity(**kargs).to(device)\n",
        "optimizer = optim.Adam(model.parameters())\n",
        "criterion = nn.BCELoss().to(device)"
      ],
      "execution_count": 0,
      "outputs": []
    },
    {
      "cell_type": "code",
      "metadata": {
        "id": "-8-a9FrprCfL",
        "colab_type": "code",
        "colab": {
          "base_uri": "https://localhost:8080/",
          "height": 151
        },
        "outputId": "3ffe5010-93f4-40ea-e184-759af20af6ba"
      },
      "source": [
        "model"
      ],
      "execution_count": 16,
      "outputs": [
        {
          "output_type": "execute_result",
          "data": {
            "text/plain": [
              "CNNSimilarity(\n",
              "  (word_embedding): Embedding(76529, 100, padding_idx=0)\n",
              "  (conv): Conv1d(100, 300, kernel_size=(3,), stride=(1,))\n",
              "  (max_pool): MaxPool1d(kernel_size=2, stride=1, padding=0, dilation=1, ceil_mode=False)\n",
              "  (dropout): Dropout(p=0.2, inplace=False)\n",
              "  (fc1): Linear(in_features=4800, out_features=128, bias=True)\n",
              "  (fc2): Linear(in_features=128, out_features=1, bias=True)\n",
              ")"
            ]
          },
          "metadata": {
            "tags": []
          },
          "execution_count": 16
        }
      ]
    },
    {
      "cell_type": "code",
      "metadata": {
        "id": "92SuM69QRrJ9",
        "colab_type": "code",
        "colab": {}
      },
      "source": [
        "def train(train_loader=train_loader, model=model, optimizer=optimizer, num_epochs=NUM_EPOCHS):\n",
        "  model.train()\n",
        "\n",
        "  for epoch in range(1, NUM_EPOCHS+1):\n",
        "    for q1, q2, labels in train_loader:\n",
        "      q1, q2, labels = q1.to(device), q2.to(device), labels.to(device)\n",
        "      y_pred = model((q1, q2)).view_as(labels)\n",
        "      loss = criterion(y_pred, labels)\n",
        "      optimizer.zero_grad()\n",
        "      loss.backward()\n",
        "      optimizer.step()\n",
        "\n",
        "    if epoch % 5 == 0:\n",
        "      print(f\"Epoch: {epoch}, Train Loss: {loss.item()}\")"
      ],
      "execution_count": 0,
      "outputs": []
    },
    {
      "cell_type": "code",
      "metadata": {
        "id": "SXU78_peRrTj",
        "colab_type": "code",
        "outputId": "9bd04970-ab63-47bf-f188-8f81cb062698",
        "colab": {
          "base_uri": "https://localhost:8080/",
          "height": 353
        }
      },
      "source": [
        "train()"
      ],
      "execution_count": 18,
      "outputs": [
        {
          "output_type": "stream",
          "text": [
            "Epoch: 5, Train Loss: 0.484086811542511\n",
            "Epoch: 10, Train Loss: 0.40599653124809265\n",
            "Epoch: 15, Train Loss: 0.24335156381130219\n",
            "Epoch: 20, Train Loss: 0.2927812337875366\n",
            "Epoch: 25, Train Loss: 0.2018425017595291\n",
            "Epoch: 30, Train Loss: 0.1750444620847702\n",
            "Epoch: 35, Train Loss: 0.17149774730205536\n",
            "Epoch: 40, Train Loss: 0.13104240596294403\n",
            "Epoch: 45, Train Loss: 0.1063234955072403\n",
            "Epoch: 50, Train Loss: 0.1349501609802246\n",
            "Epoch: 55, Train Loss: 0.12976115942001343\n",
            "Epoch: 60, Train Loss: 0.11855975538492203\n",
            "Epoch: 65, Train Loss: 0.1282782405614853\n",
            "Epoch: 70, Train Loss: 0.09749212861061096\n",
            "Epoch: 75, Train Loss: 0.1278562992811203\n",
            "Epoch: 80, Train Loss: 0.11569090932607651\n",
            "Epoch: 85, Train Loss: 0.11369975656270981\n",
            "Epoch: 90, Train Loss: 0.1340484768152237\n",
            "Epoch: 95, Train Loss: 0.06406896561384201\n",
            "Epoch: 100, Train Loss: 0.12295356392860413\n"
          ],
          "name": "stdout"
        }
      ]
    },
    {
      "cell_type": "code",
      "metadata": {
        "id": "Z5XgUSQ3wTdA",
        "colab_type": "code",
        "colab": {}
      },
      "source": [
        "val_dataset = ValData()\n",
        "val_loader = DataLoader(val_dataset, batch_size=BATCH_SIZE, shuffle=True)"
      ],
      "execution_count": 0,
      "outputs": []
    },
    {
      "cell_type": "code",
      "metadata": {
        "id": "nYTyzsY0r-Pn",
        "colab_type": "code",
        "colab": {}
      },
      "source": [
        "def eval():\n",
        "  model.eval()\n",
        "  total_loss = 0\n",
        "  acc = 0\n",
        "\n",
        "  with torch.no_grad():\n",
        "    for q1, q2, labels in val_loader:\n",
        "      q1, q2, labels = q1.to(device), q2.to(device), labels.to(device)\n",
        "      output = model((q2, q2)).view_as(labels)\n",
        "      loss = criterion(output, labels) * BATCH_SIZE\n",
        "      total_loss += loss.item()\n",
        "      pred = (output.data >= 0.5).float()\n",
        "      acc += (pred == labels).sum()\n",
        "\n",
        "  return total_loss / len(val_dataset), acc.item() / len(val_dataset)"
      ],
      "execution_count": 0,
      "outputs": []
    },
    {
      "cell_type": "code",
      "metadata": {
        "id": "Lug6qYptwkHc",
        "colab_type": "code",
        "colab": {
          "base_uri": "https://localhost:8080/",
          "height": 34
        },
        "outputId": "8281d06b-dcab-4c24-8344-07724babfe0f"
      },
      "source": [
        "eval()"
      ],
      "execution_count": 21,
      "outputs": [
        {
          "output_type": "execute_result",
          "data": {
            "text/plain": [
              "(2.1404534317766433, 0.6496164539577262)"
            ]
          },
          "metadata": {
            "tags": []
          },
          "execution_count": 21
        }
      ]
    },
    {
      "cell_type": "code",
      "metadata": {
        "id": "g0rp5eCyuNTz",
        "colab_type": "code",
        "colab": {}
      },
      "source": [
        "torch.save(model.state_dict(), './CNN_for_TextSimilarity.pth')"
      ],
      "execution_count": 0,
      "outputs": []
    },
    {
      "cell_type": "markdown",
      "metadata": {
        "id": "xFVx75cNuNOn",
        "colab_type": "text"
      },
      "source": [
        "## 테스트 파일 제출"
      ]
    },
    {
      "cell_type": "code",
      "metadata": {
        "id": "M-seJxc_1hTi",
        "colab_type": "code",
        "colab": {}
      },
      "source": [
        "TEST_Q1_DATA_FILE = 'test_q1.npy'\n",
        "TEST_Q2_DATA_FILE = 'test_q2.npy'\n",
        "TEST_ID_DATA_FILE = 'test_id.npy'\n",
        "\n",
        "test_q1_data = np.load(open(DATA_IN_PATH + TEST_Q1_DATA_FILE, 'rb'))\n",
        "test_q2_data = np.load(open(DATA_IN_PATH + TEST_Q2_DATA_FILE, 'rb'))\n",
        "test_id_data = np.load(open(DATA_IN_PATH + TEST_ID_DATA_FILE, 'rb'), allow_pickle=True)"
      ],
      "execution_count": 0,
      "outputs": []
    },
    {
      "cell_type": "code",
      "metadata": {
        "id": "HSsWvYlM1hZk",
        "colab_type": "code",
        "colab": {
          "base_uri": "https://localhost:8080/",
          "height": 34
        },
        "outputId": "36345754-4303-4e07-a2b2-9d8229d9f279"
      },
      "source": [
        "new_model = CNNSimilarity(**kargs)\n",
        "new_model.load_state_dict(torch.load('./CNN_for_TextSimilarity.pth'))"
      ],
      "execution_count": 24,
      "outputs": [
        {
          "output_type": "execute_result",
          "data": {
            "text/plain": [
              "<All keys matched successfully>"
            ]
          },
          "metadata": {
            "tags": []
          },
          "execution_count": 24
        }
      ]
    },
    {
      "cell_type": "code",
      "metadata": {
        "id": "RgLhqRFSr-b9",
        "colab_type": "code",
        "colab": {}
      },
      "source": [
        "predictions = new_model((torch.LongTensor(test_q1_data), torch.LongTensor(test_q2_data))).view(-1, 1) >= 0.5"
      ],
      "execution_count": 0,
      "outputs": []
    },
    {
      "cell_type": "code",
      "metadata": {
        "id": "edkX8Peo5jqz",
        "colab_type": "code",
        "colab": {}
      },
      "source": [
        "predictions = np.array(predictions)"
      ],
      "execution_count": 0,
      "outputs": []
    },
    {
      "cell_type": "code",
      "metadata": {
        "id": "Sw2LJwCfr-hg",
        "colab_type": "code",
        "colab": {}
      },
      "source": [
        "output = pd.DataFrame( data={\"test_id\":test_id_data, \"is_duplicate\": list(predictions)} )\n",
        "output.to_csv(\"cnn_predict.csv\", index=False, quoting=3)"
      ],
      "execution_count": 0,
      "outputs": []
    },
    {
      "cell_type": "code",
      "metadata": {
        "id": "MfF2GYNHr-Y_",
        "colab_type": "code",
        "colab": {}
      },
      "source": [
        ""
      ],
      "execution_count": 0,
      "outputs": []
    },
    {
      "cell_type": "code",
      "metadata": {
        "id": "CDh0t0M1r-Mf",
        "colab_type": "code",
        "colab": {}
      },
      "source": [
        ""
      ],
      "execution_count": 0,
      "outputs": []
    }
  ]
}